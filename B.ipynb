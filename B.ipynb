{
 "cells": [
  {
   "cell_type": "code",
   "execution_count": 61,
   "metadata": {},
   "outputs": [],
   "source": [
    "import pandas as pd\n",
    "import matplotlib.pyplot as  plt"
   ]
  },
  {
   "cell_type": "code",
   "execution_count": 62,
   "metadata": {},
   "outputs": [
    {
     "data": {
      "text/html": [
       "<div>\n",
       "<style scoped>\n",
       "    .dataframe tbody tr th:only-of-type {\n",
       "        vertical-align: middle;\n",
       "    }\n",
       "\n",
       "    .dataframe tbody tr th {\n",
       "        vertical-align: top;\n",
       "    }\n",
       "\n",
       "    .dataframe thead th {\n",
       "        text-align: right;\n",
       "    }\n",
       "</style>\n",
       "<table border=\"1\" class=\"dataframe\">\n",
       "  <thead>\n",
       "    <tr style=\"text-align: right;\">\n",
       "      <th></th>\n",
       "      <th>Age</th>\n",
       "      <th>agegroup</th>\n",
       "      <th>height</th>\n",
       "      <th>status</th>\n",
       "      <th>yearsmarried</th>\n",
       "    </tr>\n",
       "  </thead>\n",
       "  <tbody>\n",
       "    <tr>\n",
       "      <th>0</th>\n",
       "      <td>21</td>\n",
       "      <td>adult</td>\n",
       "      <td>6.0</td>\n",
       "      <td>single</td>\n",
       "      <td>-1</td>\n",
       "    </tr>\n",
       "    <tr>\n",
       "      <th>1</th>\n",
       "      <td>2</td>\n",
       "      <td>child</td>\n",
       "      <td>3.0</td>\n",
       "      <td>married</td>\n",
       "      <td>0</td>\n",
       "    </tr>\n",
       "    <tr>\n",
       "      <th>2</th>\n",
       "      <td>18</td>\n",
       "      <td>adult</td>\n",
       "      <td>5.7</td>\n",
       "      <td>married</td>\n",
       "      <td>20</td>\n",
       "    </tr>\n",
       "    <tr>\n",
       "      <th>3</th>\n",
       "      <td>221</td>\n",
       "      <td>elderly</td>\n",
       "      <td>5.0</td>\n",
       "      <td>widowed</td>\n",
       "      <td>2</td>\n",
       "    </tr>\n",
       "    <tr>\n",
       "      <th>4</th>\n",
       "      <td>34</td>\n",
       "      <td>child</td>\n",
       "      <td>-7.0</td>\n",
       "      <td>married</td>\n",
       "      <td>3</td>\n",
       "    </tr>\n",
       "  </tbody>\n",
       "</table>\n",
       "</div>"
      ],
      "text/plain": [
       "   Age agegroup  height   status  yearsmarried\n",
       "0   21    adult     6.0   single            -1\n",
       "1    2    child     3.0  married             0\n",
       "2   18    adult     5.7  married            20\n",
       "3  221  elderly     5.0  widowed             2\n",
       "4   34    child    -7.0  married             3"
      ]
     },
     "execution_count": 62,
     "metadata": {},
     "output_type": "execute_result"
    }
   ],
   "source": [
    "df = pd.read_csv('people.txt', delimiter=' ')\n",
    "df\n"
   ]
  },
  {
   "cell_type": "code",
   "execution_count": 66,
   "metadata": {},
   "outputs": [],
   "source": [
    "def rules(data):\n",
    "    violations = []\n",
    "    \n",
    "    # Rule 1\n",
    "    if not all(0 <= age <= 150 for age in data['Age']):\n",
    "        violations.append(\"Violation of Rule 1: Age should be in the range 0-150\")\n",
    "\n",
    "    # Rule 2\n",
    "    if not all(age > years_married for age, years_married in zip(data['Age'], data['yearsmarried'])):\n",
    "        violations.append(\"Violation of Rule 2: Age should be greater than yearsmarried\")\n",
    "        \n",
    "    # Rule 3\n",
    "    valid_statuses = {'married', 'single', 'widowed'}\n",
    "    if not all(status in valid_statuses for status in data['status']):\n",
    "        violations.append(\"Violation of Rule 3: Status should be married, single, or widowed\")\n",
    "        \n",
    "    # Rule 4        \n",
    "    for age, age_group in zip(data['Age'], data['agegroup']):\n",
    "        if age < 18 and age_group != 'child':\n",
    "            violations.append(\"Violation of Rule 4: Age group should be 'child' for ages less than 18\")\n",
    "            \n",
    "    for age, age_group in zip(data['Age'], data['agegroup']):\n",
    "        if 18 <= age < 65 and age_group != 'adult':\n",
    "            violations.append(\"Violation of Rule 4: Age group should be 'adult' for ages between 18 and 65\")\n",
    "    \n",
    "    for age, age_group in zip(data['Age'], data['agegroup']):\n",
    "        if age >= 65 and age_group != 'elderly':\n",
    "            violations.append(\"Violation of Rule 4: Age group should be 'elderly' for ages more than 65\")\n",
    "    \n",
    "    return violations\n",
    "            "
   ]
  },
  {
   "cell_type": "code",
   "execution_count": 67,
   "metadata": {},
   "outputs": [
    {
     "name": "stdout",
     "output_type": "stream",
     "text": [
      "Violations detected:\n",
      "Violation of Rule 1: Age should be in the range 0-150\n",
      "Violation of Rule 2: Age should be greater than yearsmarried\n",
      "Violation of Rule 4: Age group should be 'adult' for ages between 18 and 65\n"
     ]
    }
   ],
   "source": [
    "failures = rules(df)\n",
    "\n",
    "# Summarize results\n",
    "if failures:\n",
    "    print(\"Violations detected:\")\n",
    "    for violation in failures:\n",
    "        print(violation)\n",
    "else:\n",
    "    print(\"No violations detected.\")\n"
   ]
  },
  {
   "cell_type": "code",
   "execution_count": 65,
   "metadata": {},
   "outputs": [
    {
     "name": "stdout",
     "output_type": "stream",
     "text": [
      "{'Rule': 3, 'Total rules': 4}\n"
     ]
    },
    {
     "data": {
      "image/png": "[encoded data removed]",
      "text/plain": [
       "<Figure size 800x600 with 1 Axes>"
      ]
     },
     "metadata": {},
     "output_type": "display_data"
    }
   ],
   "source": [
    "rule_counts = {}\n",
    "for violation in failures:\n",
    "    rule_num = violation.split(':')[0].split()[2]\n",
    "    if rule_num not in rule_counts:\n",
    "        rule_counts[rule_num] = 1\n",
    "    else:\n",
    "        rule_counts[rule_num] += 1\n",
    "\n",
    "rule_counts['Total rules'] = 4\n",
    "\n",
    "# Print rule counts\n",
    "print(rule_counts)\n",
    "\n",
    "# Plot violations by rule\n",
    "plt.figure(figsize=(8, 6))\n",
    "plt.pie(rule_counts.values(), labels=rule_counts.keys(), autopct='%1.1f%%', startangle=140)\n",
    "plt.title('Violations by Rules')\n",
    "plt.axis('equal')\n",
    "plt.show()\n"
   ]
  }
 ],
 "metadata": {
  "kernelspec": {
   "display_name": "Python 3",
   "language": "python",
   "name": "python3"
  },
  "language_info": {
   "codemirror_mode": {
    "name": "ipython",
    "version": 3
   },
   "file_extension": ".py",
   "mimetype": "text/x-python",
   "name": "python",
   "nbconvert_exporter": "python",
   "pygments_lexer": "ipython3",
   "version": "3.11.3"
  }
 },
 "nbformat": 4,
 "nbformat_minor": 2
}
